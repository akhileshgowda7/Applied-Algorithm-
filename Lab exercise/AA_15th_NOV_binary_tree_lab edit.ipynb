{
 "cells": [
  {
   "cell_type": "code",
   "execution_count": 7,
   "metadata": {
    "id": "HfTtVPagcu9D"
   },
   "outputs": [],
   "source": [
    "class Node:\n",
    "    def __init__(self, data, left=None, right=None):\n",
    "        self.data = data\n",
    "        self.left = left\n",
    "        self.right = right"
   ]
  },
  {
   "cell_type": "code",
   "execution_count": 22,
   "metadata": {
    "id": "93OMBTvjcu9F"
   },
   "outputs": [],
   "source": [
    "# define class binary tree\n",
    "class BinaryTree:\n",
    "    def __init__(self, data):\n",
    "        self.root = Node(data)\n",
    "    \n",
    "    def insert(self, data):\n",
    "        self.insert_by_node(self.root, data)\n",
    "        return\n",
    "    \n",
    "    def insert_by_node(self, root, data):\n",
    "        if data <= root.data:\n",
    "            if root.left != None:\n",
    "                self.insert_by_node(root.left, data)\n",
    "            else:\n",
    "                root.left = Node(data)\n",
    "        else:\n",
    "            if root.right != None:\n",
    "                self.insert_by_node(root.right, data)\n",
    "            else:\n",
    "                root.right = Node(data)\n",
    "                \n",
    "    def contains(self, data):\n",
    "        return self.contains_by_node(self.root, data)\n",
    "\n",
    "    def contains_by_node(self, root, data):\n",
    "        if root and root.data<data:\n",
    "            return self.contains_by_node(root.right, data)\n",
    "        elif root and root.data>data:\n",
    "            return self.contains_by_node(root.left, data)\n",
    "        elif root and root.data==data:\n",
    "            return True\n",
    "        return False"
   ]
  },
  {
   "cell_type": "code",
   "execution_count": 23,
   "metadata": {
    "id": "I41Ee6y-cu9F"
   },
   "outputs": [],
   "source": [
    "def in_order(node):\n",
    "    if not node:\n",
    "        in_order(node.left)\n",
    "        print(node.data)\n",
    "        in_order(node.right)\n",
    "        \n",
    "def in_order_traversal(T):\n",
    "    in_order(T.root)"
   ]
  },
  {
   "cell_type": "markdown",
   "metadata": {
    "id": "1JpiGTgdcu9G"
   },
   "source": [
    "## Binary Tree\n",
    "\n",
    "- Insert data into the tree\n",
    "- Query if the certain data is inserted"
   ]
  },
  {
   "cell_type": "code",
   "execution_count": 26,
   "metadata": {
    "id": "R14Yjxj_cu9G"
   },
   "outputs": [],
   "source": [
    "import random\n",
    "random.seed(10)\n",
    "dataset = [random.randint(0, 100)for x in range(15)]\n",
    "queryset = [0, 20, 13, 62, 15,73]"
   ]
  },
  {
   "cell_type": "code",
   "execution_count": 27,
   "metadata": {
    "colab": {
     "base_uri": "https://localhost:8080/",
     "height": 392
    },
    "id": "k63-UF56cu9H",
    "outputId": "f45aab5a-c929-4472-9fe8-c106b65c83a2"
   },
   "outputs": [
    {
     "name": "stdout",
     "output_type": "stream",
     "text": [
      "[73, 4, 54, 61, 73, 1, 26, 59, 62, 35, 83, 20, 4, 66, 62]\n",
      "False\n",
      "True\n",
      "False\n",
      "True\n",
      "False\n",
      "True\n"
     ]
    }
   ],
   "source": [
    "    print(dataset)\n",
    "    bt = BinaryTree(dataset[0])\n",
    "    for i in range(1,len(dataset)):\n",
    "        bt.insert(dataset[i])\n",
    "\n",
    "    # print(bt)\n",
    "    in_order_traversal(bt)\n",
    "\n",
    "    for i in queryset:\n",
    "        print(bt.contains(i))"
   ]
  },
  {
   "cell_type": "code",
   "execution_count": null,
   "metadata": {
    "id": "keUZm2Eecu9H"
   },
   "outputs": [],
   "source": []
  },
  {
   "cell_type": "code",
   "execution_count": null,
   "metadata": {},
   "outputs": [],
   "source": []
  }
 ],
 "metadata": {
  "colab": {
   "collapsed_sections": [],
   "name": "AA_15th_NOV_binary_tree_lab.ipynb",
   "provenance": []
  },
  "kernelspec": {
   "display_name": "Python 3",
   "language": "python",
   "name": "python3"
  },
  "language_info": {
   "codemirror_mode": {
    "name": "ipython",
    "version": 3
   },
   "file_extension": ".py",
   "mimetype": "text/x-python",
   "name": "python",
   "nbconvert_exporter": "python",
   "pygments_lexer": "ipython3",
   "version": "3.8.8"
  }
 },
 "nbformat": 4,
 "nbformat_minor": 1
}
